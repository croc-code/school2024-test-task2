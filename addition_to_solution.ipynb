{
 "cells": [
  {
   "cell_type": "markdown",
   "id": "26ed736d-9233-44ab-9876-4b24c2e916d0",
   "metadata": {},
   "source": [
    "# <p style=\"text-align: center;\">Основное задание</p>\r\n",
    "###  Разработать отчет, определяющий категории товаров, наиболее популярные перед Новым годом. Если популярных категорий товаров больше, чем одна, отчет должен показывать их все. Предновогодним периодом будем считать срок с 1 по 31 декабря.<br><br>"
   ]
  },
  {
   "cell_type": "markdown",
   "id": "aea08d61-fc23-4f0b-ba05-82937da81d0f",
   "metadata": {},
   "source": [
    "**1. При необходимости, установим необходимые библиотеки**"
   ]
  },
  {
   "cell_type": "code",
   "execution_count": 1,
   "id": "cbd75bcc-0c08-4472-bf61-969e459fdaaf",
   "metadata": {},
   "outputs": [
    {
     "name": "stdout",
     "output_type": "stream",
     "text": [
      "Collecting matplotlib\n",
      "  Downloading matplotlib-3.8.4-cp39-cp39-win_amd64.whl (7.7 MB)\n",
      "     ---------------------------------------- 7.7/7.7 MB 751.8 kB/s eta 0:00:00\n",
      "Collecting cycler>=0.10\n",
      "  Using cached cycler-0.12.1-py3-none-any.whl (8.3 kB)\n",
      "Requirement already satisfied: python-dateutil>=2.7 in c:\\users\\1\\pycharmprojects\\working_test_tasks\\task_test_croc_2024\\venv\\lib\\site-packages (from matplotlib) (2.9.0.post0)\n",
      "Collecting numpy>=1.21\n",
      "  Downloading numpy-1.26.4-cp39-cp39-win_amd64.whl (15.8 MB)\n",
      "     -------------------------------------- 15.8/15.8 MB 793.9 kB/s eta 0:00:00\n",
      "Collecting fonttools>=4.22.0\n",
      "  Downloading fonttools-4.51.0-cp39-cp39-win_amd64.whl (2.2 MB)\n",
      "     ---------------------------------------- 2.2/2.2 MB 1.1 MB/s eta 0:00:00\n",
      "Collecting importlib-resources>=3.2.0\n",
      "  Downloading importlib_resources-6.4.0-py3-none-any.whl (38 kB)\n",
      "Collecting contourpy>=1.0.1\n",
      "  Downloading contourpy-1.2.1-cp39-cp39-win_amd64.whl (182 kB)\n",
      "     ------------------------------------ 182.8/182.8 KB 355.8 kB/s eta 0:00:00\n",
      "Collecting kiwisolver>=1.3.1\n",
      "  Downloading kiwisolver-1.4.5-cp39-cp39-win_amd64.whl (56 kB)\n",
      "     -------------------------------------- 56.2/56.2 KB 417.8 kB/s eta 0:00:00\n",
      "Collecting pyparsing>=2.3.1\n",
      "  Using cached pyparsing-3.1.2-py3-none-any.whl (103 kB)\n",
      "Collecting pillow>=8\n",
      "  Downloading pillow-10.3.0-cp39-cp39-win_amd64.whl (2.5 MB)\n",
      "     ---------------------------------------- 2.5/2.5 MB 493.4 kB/s eta 0:00:00\n",
      "Requirement already satisfied: packaging>=20.0 in c:\\users\\1\\pycharmprojects\\working_test_tasks\\task_test_croc_2024\\venv\\lib\\site-packages (from matplotlib) (24.0)\n",
      "Requirement already satisfied: zipp>=3.1.0 in c:\\users\\1\\pycharmprojects\\working_test_tasks\\task_test_croc_2024\\venv\\lib\\site-packages (from importlib-resources>=3.2.0->matplotlib) (3.18.1)\n",
      "Requirement already satisfied: six>=1.5 in c:\\users\\1\\pycharmprojects\\working_test_tasks\\task_test_croc_2024\\venv\\lib\\site-packages (from python-dateutil>=2.7->matplotlib) (1.16.0)\n",
      "Installing collected packages: pyparsing, pillow, numpy, kiwisolver, importlib-resources, fonttools, cycler, contourpy, matplotlib\n",
      "Successfully installed contourpy-1.2.1 cycler-0.12.1 fonttools-4.51.0 importlib-resources-6.4.0 kiwisolver-1.4.5 matplotlib-3.8.4 numpy-1.26.4 pillow-10.3.0 pyparsing-3.1.2\n"
     ]
    },
    {
     "name": "stderr",
     "output_type": "stream",
     "text": [
      "WARNING: You are using pip version 22.0.4; however, version 24.0 is available.\n",
      "You should consider upgrading via the 'C:\\Users\\1\\PycharmProjects\\working_test_tasks\\task_test_croc_2024\\venv\\Scripts\\python.exe -m pip install --upgrade pip' command.\n"
     ]
    },
    {
     "name": "stdout",
     "output_type": "stream",
     "text": [
      "Collecting pandas\n",
      "  Downloading pandas-2.2.2-cp39-cp39-win_amd64.whl (11.6 MB)\n",
      "     ---------------------------------------- 11.6/11.6 MB 1.1 MB/s eta 0:00:00\n",
      "Requirement already satisfied: python-dateutil>=2.8.2 in c:\\users\\1\\pycharmprojects\\working_test_tasks\\task_test_croc_2024\\venv\\lib\\site-packages (from pandas) (2.9.0.post0)\n",
      "Requirement already satisfied: numpy>=1.22.4 in c:\\users\\1\\pycharmprojects\\working_test_tasks\\task_test_croc_2024\\venv\\lib\\site-packages (from pandas) (1.26.4)\n",
      "Collecting tzdata>=2022.7\n",
      "  Using cached tzdata-2024.1-py2.py3-none-any.whl (345 kB)\n",
      "Collecting pytz>=2020.1\n",
      "  Using cached pytz-2024.1-py2.py3-none-any.whl (505 kB)\n",
      "Requirement already satisfied: six>=1.5 in c:\\users\\1\\pycharmprojects\\working_test_tasks\\task_test_croc_2024\\venv\\lib\\site-packages (from python-dateutil>=2.8.2->pandas) (1.16.0)\n",
      "Installing collected packages: pytz, tzdata, pandas\n",
      "Successfully installed pandas-2.2.2 pytz-2024.1 tzdata-2024.1\n"
     ]
    },
    {
     "name": "stderr",
     "output_type": "stream",
     "text": [
      "WARNING: You are using pip version 22.0.4; however, version 24.0 is available.\n",
      "You should consider upgrading via the 'C:\\Users\\1\\PycharmProjects\\working_test_tasks\\task_test_croc_2024\\venv\\Scripts\\python.exe -m pip install --upgrade pip' command.\n"
     ]
    }
   ],
   "source": [
    "# уберите комментарии на двух строчках ниже и запустите эту ячейку, если у вас не уставновлены библиотеки: \"matplotlib\" и \"pandas\"\n",
    "#!pip install matplotlib\n",
    "#!pip install pandas"
   ]
  },
  {
   "cell_type": "code",
   "execution_count": 2,
   "id": "21f555ff-a1b0-4d5c-8d6e-cfda51255a52",
   "metadata": {},
   "outputs": [],
   "source": [
    "import json\n",
    "from typing import Dict, Any, List\n",
    "import matplotlib.pyplot as plt\n",
    "import pandas as pd"
   ]
  },
  {
   "cell_type": "markdown",
   "id": "a1ecbaaf-2c19-4faf-a4f9-e0f18d2c3ca6",
   "metadata": {},
   "source": [
    "**2. Пропишем неоходимые функции для считывания данных, их обратоки и записи результата в json-файл**"
   ]
  },
  {
   "cell_type": "code",
   "execution_count": 3,
   "id": "9c107057-07b6-45f8-9acb-3bd736fc7b00",
   "metadata": {},
   "outputs": [],
   "source": [
    "# функия для проверки того, что заказ был совершен в декабре\n",
    "def is_december_date(date: str) -> bool:\n",
    "    month = date.split(\"-\", 2)[1]\n",
    "    if month == \"12\":\n",
    "        return True\n",
    "    else:\n",
    "        return False"
   ]
  },
  {
   "cell_type": "code",
   "execution_count": 4,
   "id": "fea85ead-6cce-45da-928f-91fc7e8f29d3",
   "metadata": {},
   "outputs": [],
   "source": [
    "# функция получения данных из json-файла\n",
    "def get_json_data(file_title: str) -> Dict[str, Any]:\n",
    "    with open(file_title, encoding=\"utf8\") as f:\n",
    "        data = json.load(f)\n",
    "        return data"
   ]
  },
  {
   "cell_type": "code",
   "execution_count": 5,
   "id": "1879d37a-3f12-4304-9764-f9d88f37fa8e",
   "metadata": {},
   "outputs": [],
   "source": [
    "# функция для получения словаря, ключом которого является название категории,\n",
    "# a значением - количество совершенных покупок из данной категории\n",
    "def get_product_categories_stats(orders_data: Dict[str, int]) -> Dict[str, Any]:\n",
    "    categories_stats = {}\n",
    "    for order in orders_data:\n",
    "        order_date = order[\"ordered_at\"]\n",
    "        if is_december_date(order_date): # проверяем, что заказ был совершен в предновогодний преиод\n",
    "            shop_basket = order[\"items\"]\n",
    "            for product in shop_basket:\n",
    "                category = product[\"category\"]\n",
    "                category_name = category[\"name\"]\n",
    "                if category_name not in categories_stats:\n",
    "                    categories_stats[category_name] = 0\n",
    "                categories_stats[category_name] += 1\n",
    "    return categories_stats"
   ]
  },
  {
   "cell_type": "code",
   "execution_count": 6,
   "id": "e34901d9-93b7-42ab-90a3-7872dd1c1ea1",
   "metadata": {},
   "outputs": [],
   "source": [
    "# функция получения списка наиболее востребованных категорий\n",
    "def get_most_popular_categories(categories_stats: Dict[str, int]) -> List[str]:\n",
    "    most_popular_categories_value = max(categories_stats.values()) # определяем кол-во покупок, совершенной в одной из самых востребованных категорий товаров\n",
    "    most_popular_categories = []\n",
    "    for category in categories_stats:\n",
    "        category_value = categories_stats[category]\n",
    "        if category_value == most_popular_categories_value:\n",
    "            most_popular_categories.append(category)\n",
    "    most_popular_categories.sort()\n",
    "    return most_popular_categories"
   ]
  },
  {
   "cell_type": "code",
   "execution_count": 7,
   "id": "6c688a16-36df-4a30-bc08-2dbf17afe195",
   "metadata": {},
   "outputs": [],
   "source": [
    "# процедура для записи отчета в выходной файл \"output_data\"\n",
    "def get_report_json_data(most_popular_categories: List[str]):\n",
    "    report_data = {\n",
    "        \"categories\": most_popular_categories\n",
    "    }\n",
    "    with open(\"output_data.json\", \"w\", encoding=\"utf8\") as f:\n",
    "        json.dump(report_data, f, indent=4, ensure_ascii=False)"
   ]
  },
  {
   "cell_type": "markdown",
   "id": "2d8cb16c-b0ab-4a6a-b5c9-f85251225a42",
   "metadata": {},
   "source": [
    "**3. Считаем входные данные из файла и реализуем поставленную задачу, используя функции, описанные выше**"
   ]
  },
  {
   "cell_type": "code",
   "execution_count": 8,
   "id": "82e0db65-ffc0-43d4-bdd6-d2b64913d828",
   "metadata": {},
   "outputs": [
    {
     "name": "stdin",
     "output_type": "stream",
     "text": [
      "Введите название входного файла для чтения данных:  format.json\n"
     ]
    }
   ],
   "source": [
    "file_title = input(\"Введите название входного файла для чтения данных: \")\n",
    "orders_data = get_json_data(file_title=file_title)\n",
    "categories_stats = get_product_categories_stats(orders_data=orders_data)\n",
    "most_popular_categories = get_most_popular_categories(categories_stats=categories_stats)\n",
    "get_report_json_data(most_popular_categories=most_popular_categories)"
   ]
  },
  {
   "cell_type": "markdown",
   "id": "a1c486e8-c523-401b-bea5-d036c8c7c8d6",
   "metadata": {},
   "source": [
    "# <p style=\"text-align: center;\">Дополнительное задание</p>\r\n",
    "### Визуализировать входные данные и создать dataframe на их основе<br><br>"
   ]
  },
  {
   "cell_type": "markdown",
   "id": "925073c4-54df-48b3-96f3-0ae0673872f9",
   "metadata": {},
   "source": [
    "**1. Выведем график, соответсвующий количеству товаров, приобретенных в каждой из категорий**"
   ]
  },
  {
   "cell_type": "code",
   "execution_count": 9,
   "id": "b0eafd87-0bc5-4261-9a17-61f4b448a602",
   "metadata": {},
   "outputs": [
    {
     "data": {
      "image/png": "[encoded data removed]",
      "text/plain": [
       "<Figure size 1400x500 with 1 Axes>"
      ]
     },
     "metadata": {},
     "output_type": "display_data"
    }
   ],
   "source": [
    "# сортриуем элементы в словаре по значениям по возрастанию\n",
    "categories_stats_sort = dict(sorted(categories_stats.items(), key=lambda x: x[1]))\n",
    "\n",
    "x = categories_stats_sort.keys()\n",
    "y = categories_stats_sort.values()\n",
    "\n",
    "plt.figure(figsize=(14, 5))\n",
    "plt.bar(x, y, color='skyblue')\n",
    "plt.xlabel('Название категорий')\n",
    "plt.ylabel('Количество покупок в каждой из категорий')\n",
    "plt.title('Количество товаров по категориям')\n",
    "plt.grid(axis='y', linestyle='--', linewidth=0.5)\n",
    "plt.show()"
   ]
  },
  {
   "cell_type": "markdown",
   "id": "5cc77fd5-b948-493d-8f1d-5deb0fd6559b",
   "metadata": {},
   "source": [
    "**2. Создадим и заполним массивы с данными о товарах и категориях для dataframe**"
   ]
  },
  {
   "cell_type": "code",
   "execution_count": 10,
   "id": "fd4920af-d683-4342-9629-e7e9605dba2a",
   "metadata": {},
   "outputs": [],
   "source": [
    "product_titles = []\n",
    "product_ids = []\n",
    "category_titles = []\n",
    "category_ids = []\n",
    "\n",
    "orders_data\n",
    "for order in orders_data:\n",
    "        order_date = order[\"ordered_at\"]\n",
    "        if is_december_date(order_date):\n",
    "            shop_basket = order[\"items\"]\n",
    "            for product in shop_basket:\n",
    "                product_title = product[\"name\"]\n",
    "                product_id = product[\"id\"]\n",
    "                category = product[\"category\"]\n",
    "                category_title = category[\"name\"]\n",
    "                category_id = category[\"id\"]\n",
    "\n",
    "                product_titles.append(product_title)\n",
    "                product_ids.append(product_id)\n",
    "                category_titles.append(category_title)\n",
    "                category_ids.append(category_id)"
   ]
  },
  {
   "cell_type": "markdown",
   "id": "59118645-0679-4bbf-bf25-30f67af8f90a",
   "metadata": {},
   "source": [
    "**3. Выводим dataframe, в котором содержится информация о товарах и соответсвующих им категориях**"
   ]
  },
  {
   "cell_type": "code",
   "execution_count": 11,
   "id": "2035058f-e2c7-471f-a0c9-85211efbe7c0",
   "metadata": {},
   "outputs": [
    {
     "data": {
      "text/html": [
       "<div>\n",
       "<style scoped>\n",
       "    .dataframe tbody tr th:only-of-type {\n",
       "        vertical-align: middle;\n",
       "    }\n",
       "\n",
       "    .dataframe tbody tr th {\n",
       "        vertical-align: top;\n",
       "    }\n",
       "\n",
       "    .dataframe thead th {\n",
       "        text-align: right;\n",
       "    }\n",
       "</style>\n",
       "<table border=\"1\" class=\"dataframe\">\n",
       "  <thead>\n",
       "    <tr style=\"text-align: right;\">\n",
       "      <th></th>\n",
       "      <th>товар</th>\n",
       "      <th>id товара</th>\n",
       "      <th>категория</th>\n",
       "      <th>id категории</th>\n",
       "    </tr>\n",
       "  </thead>\n",
       "  <tbody>\n",
       "    <tr>\n",
       "      <th>0</th>\n",
       "      <td>Игровая приставка Sony Play Station 5</td>\n",
       "      <td>b250ed3c-25d7-462b-9aae-4cae6db4e1e5</td>\n",
       "      <td>Бытовая техника</td>\n",
       "      <td>e3386407-3918-422a-b128-ad23a2ddf9c3</td>\n",
       "    </tr>\n",
       "    <tr>\n",
       "      <th>1</th>\n",
       "      <td>Набор уходовых средств Obagi</td>\n",
       "      <td>bd4395cc-6602-4206-bc7a-01a8c5b1eef9</td>\n",
       "      <td>Средства для ухода за собой</td>\n",
       "      <td>0bf9cb4d-30db-4440-a9dc-37edb0e78684</td>\n",
       "    </tr>\n",
       "    <tr>\n",
       "      <th>2</th>\n",
       "      <td>Богатый папа, бедный папа</td>\n",
       "      <td>3975d9a4-1adc-4eab-baf1-55b59e78136d</td>\n",
       "      <td>Книги</td>\n",
       "      <td>8b9bb003-6d90-43c4-9158-cfeca24b20f8</td>\n",
       "    </tr>\n",
       "    <tr>\n",
       "      <th>3</th>\n",
       "      <td>Телевизор LG C3</td>\n",
       "      <td>e188a4ce-d1c9-45b9-b757-4e9bcfc7281a</td>\n",
       "      <td>Бытовая техника</td>\n",
       "      <td>e3386407-3918-422a-b128-ad23a2ddf9c3</td>\n",
       "    </tr>\n",
       "    <tr>\n",
       "      <th>4</th>\n",
       "      <td>Лонгслив SUPREME x CROC</td>\n",
       "      <td>a57548eb-9a1d-4d2c-8397-9d0c2c60fce6</td>\n",
       "      <td>Одежда</td>\n",
       "      <td>593d36d5-1d8b-4237-beb4-e1c8e361c335</td>\n",
       "    </tr>\n",
       "    <tr>\n",
       "      <th>5</th>\n",
       "      <td>Набор зимней резины Pirelli</td>\n",
       "      <td>b8822fc1-b442-430c-9120-a3a1cedcb573</td>\n",
       "      <td>Автозапчасти</td>\n",
       "      <td>3d400f36-2766-40dc-95dd-f82cf3eef6f3</td>\n",
       "    </tr>\n",
       "  </tbody>\n",
       "</table>\n",
       "</div>"
      ],
      "text/plain": [
       "                                   товар  \\\n",
       "0  Игровая приставка Sony Play Station 5   \n",
       "1           Набор уходовых средств Obagi   \n",
       "2              Богатый папа, бедный папа   \n",
       "3                        Телевизор LG C3   \n",
       "4                Лонгслив SUPREME x CROC   \n",
       "5            Набор зимней резины Pirelli   \n",
       "\n",
       "                              id товара                    категория  \\\n",
       "0  b250ed3c-25d7-462b-9aae-4cae6db4e1e5              Бытовая техника   \n",
       "1  bd4395cc-6602-4206-bc7a-01a8c5b1eef9  Средства для ухода за собой   \n",
       "2  3975d9a4-1adc-4eab-baf1-55b59e78136d                        Книги   \n",
       "3  e188a4ce-d1c9-45b9-b757-4e9bcfc7281a              Бытовая техника   \n",
       "4  a57548eb-9a1d-4d2c-8397-9d0c2c60fce6                       Одежда   \n",
       "5  b8822fc1-b442-430c-9120-a3a1cedcb573                 Автозапчасти   \n",
       "\n",
       "                           id категории  \n",
       "0  e3386407-3918-422a-b128-ad23a2ddf9c3  \n",
       "1  0bf9cb4d-30db-4440-a9dc-37edb0e78684  \n",
       "2  8b9bb003-6d90-43c4-9158-cfeca24b20f8  \n",
       "3  e3386407-3918-422a-b128-ad23a2ddf9c3  \n",
       "4  593d36d5-1d8b-4237-beb4-e1c8e361c335  \n",
       "5  3d400f36-2766-40dc-95dd-f82cf3eef6f3  "
      ]
     },
     "execution_count": 11,
     "metadata": {},
     "output_type": "execute_result"
    }
   ],
   "source": [
    "data = {\n",
    "    \"товар\": product_titles,\n",
    "    \"id товара\": product_ids,\n",
    "    \"категория\": category_titles,\n",
    "    \"id категории\": category_ids\n",
    "}\n",
    "\n",
    "df = pd.DataFrame(data)\n",
    "df"
   ]
  },
  {
   "cell_type": "code",
   "execution_count": null,
   "id": "0ea58709-4753-44e0-8561-617158138fa6",
   "metadata": {},
   "outputs": [],
   "source": []
  }
 ],
 "metadata": {
  "kernelspec": {
   "display_name": "Python 3 (ipykernel)",
   "language": "python",
   "name": "python3"
  },
  "language_info": {
   "codemirror_mode": {
    "name": "ipython",
    "version": 3
   },
   "file_extension": ".py",
   "mimetype": "text/x-python",
   "name": "python",
   "nbconvert_exporter": "python",
   "pygments_lexer": "ipython3",
   "version": "3.9.13"
  }
 },
 "nbformat": 4,
 "nbformat_minor": 5
}
